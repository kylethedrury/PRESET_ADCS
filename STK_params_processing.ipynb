{
 "cells": [
  {
   "cell_type": "code",
   "execution_count": 1,
   "outputs": [],
   "source": [
    "import os\n",
    "import pandas as pd\n",
    "import csv\n",
    "import numpy as np"
   ],
   "metadata": {
    "collapsed": false,
    "ExecuteTime": {
     "end_time": "2024-06-27T18:09:55.435149700Z",
     "start_time": "2024-06-27T18:09:54.243075900Z"
    }
   }
  },
  {
   "cell_type": "code",
   "execution_count": 5,
   "outputs": [],
   "source": [
    "# Script for changing the header of each CSV, and removing the last 3 columns (not needed right now)\n",
    "\n",
    "def modify_csv(file_path):\n",
    "    # Read the CSV file\n",
    "    df = pd.read_csv(file_path)\n",
    "\n",
    "    # Drop the last three columns\n",
    "    df = df.iloc[:, :-3]\n",
    "\n",
    "    # Update the header row\n",
    "    df.columns = ['Time', 'x', 'y', 'z', 'vx', 'vy', 'vz', 'Bx', 'By', 'Bz']\n",
    "\n",
    "    # Change the first column to be \"0, 0.5, 1.0, 1.5, 2, 2.5...\"\n",
    "    df['Time'] = [0.5 * i for i in range(len(df))]\n",
    "\n",
    "    # Save the modified DataFrame back to the same CSV file\n",
    "    df.to_csv(file_path, index=False)\n",
    "\n",
    "def modify_all_csvs_in_directory(directory_path):\n",
    "    for filename in os.listdir(directory_path):\n",
    "        if filename.endswith('.csv'):\n",
    "            file_path = os.path.join(directory_path, filename)\n",
    "            modify_csv(file_path)\n",
    "\n",
    "# Example usage:\n",
    "directory_path = './12pm_LTDN'\n",
    "modify_all_csvs_in_directory(directory_path)"
   ],
   "metadata": {
    "collapsed": false,
    "ExecuteTime": {
     "end_time": "2024-06-26T00:58:08.881344300Z",
     "start_time": "2024-06-26T00:57:42.053078600Z"
    }
   }
  },
  {
   "cell_type": "code",
   "execution_count": 8,
   "outputs": [
    {
     "name": "stdout",
     "output_type": "stream",
     "text": [
      "Processed CSV saved as: ./12pm_LTDN\\thompson05.csv\n",
      "Processed CSV saved as: ./12pm_LTDN\\yaw05.csv\n"
     ]
    }
   ],
   "source": [
    "# Script for changing the file from being every 0.5s to every 1s\n",
    "\n",
    "def delete_every_other_row(input_csv):\n",
    "    # Define the output CSV filename\n",
    "    base, ext = os.path.splitext(input_csv)\n",
    "    output_csv = f\"{base}05{ext}\"\n",
    "\n",
    "    # Read the input CSV file\n",
    "    with open(input_csv, 'r', newline='') as infile:\n",
    "        reader = csv.reader(infile)\n",
    "        rows = list(reader)\n",
    "\n",
    "    # Prepare to write to the output CSV file\n",
    "    with open(output_csv, 'w', newline='') as outfile:\n",
    "        writer = csv.writer(outfile)\n",
    "\n",
    "        # Write the header row\n",
    "        writer.writerow(rows[0])\n",
    "\n",
    "        # Write the first data row\n",
    "        writer.writerow(rows[1])\n",
    "\n",
    "        # Delete every other row starting with the third line\n",
    "        for i in range(2, len(rows)):\n",
    "            if (i - 2) % 2 == 1:\n",
    "                writer.writerow(rows[i])\n",
    "\n",
    "    print(f\"Processed CSV saved as: {output_csv}\")\n",
    "\n",
    "def modify_all_csvs_in_directory(directory_path):\n",
    "    for filename in os.listdir(directory_path):\n",
    "        if filename.endswith('.csv'):\n",
    "            file_path = os.path.join(directory_path, filename)\n",
    "            delete_every_other_row(file_path)\n",
    "\n",
    "# Example usage:\n",
    "directory_path = './12pm_LTDN'\n",
    "modify_all_csvs_in_directory(directory_path)"
   ],
   "metadata": {
    "collapsed": false,
    "ExecuteTime": {
     "end_time": "2024-06-26T22:14:42.406017700Z",
     "start_time": "2024-06-26T22:14:25.273857800Z"
    }
   }
  },
  {
   "cell_type": "code",
   "execution_count": 2,
   "outputs": [
    {
     "name": "stdout",
     "output_type": "stream",
     "text": [
      "Interpolated CSV saved as: ./csvs\\001_3am_interpolated.csv\n",
      "Interpolated CSV saved as: ./csvs\\001_6am_interpolated.csv\n"
     ]
    }
   ],
   "source": [
    "# Script for taking the 0.5s file and using lininterp to make it every 0.01s\n",
    "\n",
    "def interpolate_csv(input_csv):\n",
    "    # Read the input CSV file\n",
    "    df = pd.read_csv(input_csv)\n",
    "\n",
    "    # Extract the time and data columns\n",
    "    time = df.iloc[:, 0].values\n",
    "    data = df.iloc[:, 1:].values\n",
    "\n",
    "    # Create new time values from the minimum to maximum time at 0.01 second intervals\n",
    "    new_time = np.arange(time[0], time[-1] + 0.01, 0.01)\n",
    "\n",
    "    # Perform linear interpolation for each data column\n",
    "    new_data = np.zeros((len(new_time), data.shape[1]))\n",
    "    for i in range(data.shape[1]):\n",
    "        new_data[:, i] = np.interp(new_time, time, data[:, i])\n",
    "\n",
    "    # Create a new DataFrame with the interpolated data\n",
    "    new_df = pd.DataFrame(data=np.column_stack((new_time, new_data)), columns=df.columns)\n",
    "\n",
    "    # Define the output CSV filename\n",
    "    base, ext = input_csv.rsplit('.', 1)\n",
    "    output_csv = f\"{base}_interpolated.{ext}\"\n",
    "\n",
    "    # Save the new DataFrame to the output CSV file\n",
    "    new_df.to_csv(output_csv, index=False)\n",
    "    print(f\"Interpolated CSV saved as: {output_csv}\")\n",
    "\n",
    "def modify_all_csvs_in_directory(directory_path):\n",
    "    for filename in os.listdir(directory_path):\n",
    "        if filename.endswith('.csv'):\n",
    "            file_path = os.path.join(directory_path, filename)\n",
    "            interpolate_csv(file_path)\n",
    "\n",
    "# Example usage:\n",
    "directory_path = './csvs'\n",
    "modify_all_csvs_in_directory(directory_path)"
   ],
   "metadata": {
    "collapsed": false,
    "ExecuteTime": {
     "end_time": "2024-06-27T19:18:49.937800100Z",
     "start_time": "2024-06-27T18:10:48.451158800Z"
    }
   }
  }
 ],
 "metadata": {
  "kernelspec": {
   "display_name": "Python 3",
   "language": "python",
   "name": "python3"
  },
  "language_info": {
   "codemirror_mode": {
    "name": "ipython",
    "version": 2
   },
   "file_extension": ".py",
   "mimetype": "text/x-python",
   "name": "python",
   "nbconvert_exporter": "python",
   "pygments_lexer": "ipython2",
   "version": "2.7.6"
  }
 },
 "nbformat": 4,
 "nbformat_minor": 0
}
